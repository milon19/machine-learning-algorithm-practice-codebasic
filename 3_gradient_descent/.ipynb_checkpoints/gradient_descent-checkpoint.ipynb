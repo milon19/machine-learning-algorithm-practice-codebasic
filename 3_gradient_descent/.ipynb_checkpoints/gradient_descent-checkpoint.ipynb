{
 "cells": [
  {
   "cell_type": "code",
   "execution_count": 274,
   "metadata": {},
   "outputs": [],
   "source": [
    "import pandas as pd\n",
    "import numpy as np\n",
    "import matplotlib.pyplot as plt\n",
    "from sklearn import linear_model\n",
    "import math"
   ]
  },
  {
   "cell_type": "code",
   "execution_count": 275,
   "metadata": {},
   "outputs": [],
   "source": [
    "def gradient_descent(x, y):\n",
    "    m_cur = c_cur = 0\n",
    "    rate = 0.01\n",
    "    n = len(x)\n",
    "    for i in range(1000):\n",
    "        y_p = m_cur*x + c_cur\n",
    "        dm = -(2/n)*(x*(y-y_p))\n",
    "        dc = -(2/n)*(y-y_p)\n",
    "        \n",
    "    return m_cur, c_cur"
   ]
  },
  {
   "cell_type": "code",
   "execution_count": 279,
   "metadata": {},
   "outputs": [
    {
     "name": "stdout",
     "output_type": "stream",
     "text": [
      "m_s = [0.04753664] c_s = 7.032593549127693\n",
      "m = 0 c = 0\n"
     ]
    }
   ],
   "source": [
    "df = pd.read_csv('data.csv')\n",
    "reg = linear_model.LinearRegression()\n",
    "x = np.array(df.TV)\n",
    "y = np.array(df.Sales)\n",
    "reg.fit(df[['TV']], df.Sales)\n",
    "m, c = gradient_descent(x, y)\n",
    "print(\"m_s = {} c_s = {}\".format(reg.coef_, reg.intercept_))\n",
    "print(\"m = {} c = {}\".format(m, c))"
   ]
  },
  {
   "cell_type": "code",
   "execution_count": null,
   "metadata": {},
   "outputs": [],
   "source": []
  },
  {
   "cell_type": "code",
   "execution_count": null,
   "metadata": {},
   "outputs": [],
   "source": []
  }
 ],
 "metadata": {
  "kernelspec": {
   "display_name": "Python 3",
   "language": "python",
   "name": "python3"
  },
  "language_info": {
   "codemirror_mode": {
    "name": "ipython",
    "version": 3
   },
   "file_extension": ".py",
   "mimetype": "text/x-python",
   "name": "python",
   "nbconvert_exporter": "python",
   "pygments_lexer": "ipython3",
   "version": "3.7.4"
  }
 },
 "nbformat": 4,
 "nbformat_minor": 2
}
